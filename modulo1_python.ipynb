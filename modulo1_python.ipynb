{
  "nbformat": 4,
  "nbformat_minor": 0,
  "metadata": {
    "colab": {
      "provenance": [],
      "toc_visible": true,
      "authorship_tag": "ABX9TyMBF3E5XbXVsVKPlYHk1i+3",
      "include_colab_link": true
    },
    "kernelspec": {
      "name": "python3",
      "display_name": "Python 3"
    },
    "language_info": {
      "name": "python"
    }
  },
  "cells": [
    {
      "cell_type": "markdown",
      "metadata": {
        "id": "view-in-github",
        "colab_type": "text"
      },
      "source": [
        "<a href=\"https://colab.research.google.com/github/RenatoC2/RenatoPortfolio/blob/main/modulo1_python.ipynb\" target=\"_parent\"><img src=\"https://colab.research.google.com/assets/colab-badge.svg\" alt=\"Open In Colab\"/></a>"
      ]
    },
    {
      "cell_type": "markdown",
      "source": [
        "Variaveis Númericas:\n",
        "\n",
        "int (inteiros) 10, 37, 500\n",
        "\n",
        "float (decimais) 0.333, 10.1\n",
        "\n",
        "complex (complexos) 1 + 2j"
      ],
      "metadata": {
        "id": "c6ocn-xDcUxE"
      }
    },
    {
      "cell_type": "markdown",
      "source": [
        "#Numeros"
      ],
      "metadata": {
        "id": "A3mvmkfAjuPd"
      }
    },
    {
      "cell_type": "markdown",
      "source": [
        "    print(type(37))\n",
        "    print(type(10.1))\n",
        "    print(type(1 + 2j))\n",
        "\n",
        "Operações:\n",
        "\n",
        "+ (soma)\n",
        "- (subtração)\n",
        "* (multiplicação)\n",
        "/ (divisão)\n",
        "\n",
        "Operações Avançadas:\n",
        "\n",
        "// (divisão interia)\n",
        "** (potencia ou exponenciação)\n",
        "% (resto de divisão)\n"
      ],
      "metadata": {
        "id": "uAS8McMEbGZ3"
      }
    },
    {
      "cell_type": "markdown",
      "source": [
        "Exemplo: Carrinho de compra E-COMMERCE"
      ],
      "metadata": {
        "id": "lK_Dc5Wpba1h"
      }
    },
    {
      "cell_type": "code",
      "source": [
        "qtd_items_carrinho_compra = 0\n",
        "\n",
        "qtd_items_carrinho_compra = qtd_items_carrinho_compra + 1\n",
        "print(qtd_items_carrinho_compra)\n",
        "\n",
        "qtd_items_carrinho_compra = qtd_items_carrinho_compra - 1\n",
        "print(qtd_items_carrinho_compra)"
      ],
      "metadata": {
        "colab": {
          "base_uri": "https://localhost:8080/"
        },
        "id": "WiDobeWZbgyg",
        "outputId": "bfe7bcd7-7549-4054-9733-0bdf9e28bad9"
      },
      "execution_count": 3,
      "outputs": [
        {
          "output_type": "stream",
          "name": "stdout",
          "text": [
            "1\n",
            "2\n"
          ]
        }
      ]
    },
    {
      "cell_type": "markdown",
      "source": [
        "Exemplo: Total a pagar de um produto"
      ],
      "metadata": {
        "id": "TdhXJY47csxb"
      }
    },
    {
      "cell_type": "code",
      "source": [
        "preco = 47\n",
        "quantidade = 0.250\n",
        "\n",
        "total_a_pagar = quantidade * preco\n",
        "print(total_a_pagar)"
      ],
      "metadata": {
        "colab": {
          "base_uri": "https://localhost:8080/"
        },
        "id": "G-LSNmxQcynC",
        "outputId": "91d32c94-5f05-4137-9973-698d98febe3e"
      },
      "execution_count": 4,
      "outputs": [
        {
          "output_type": "stream",
          "name": "stdout",
          "text": [
            "11.75\n"
          ]
        }
      ]
    },
    {
      "cell_type": "markdown",
      "source": [
        "Conversão de valores numericos entre si utilizando o metodo nativo int, float e complex"
      ],
      "metadata": {
        "id": "SsCRxelpd2dc"
      }
    },
    {
      "cell_type": "code",
      "source": [
        "print(int(3.9))"
      ],
      "metadata": {
        "colab": {
          "base_uri": "https://localhost:8080/"
        },
        "id": "ADIAa0AseC7o",
        "outputId": "1de05cbb-0432-42d7-9ace-dd237e3bfb77"
      },
      "execution_count": 5,
      "outputs": [
        {
          "output_type": "stream",
          "name": "stdout",
          "text": [
            "3\n"
          ]
        }
      ]
    },
    {
      "cell_type": "code",
      "source": [
        "print(float(10))\n"
      ],
      "metadata": {
        "colab": {
          "base_uri": "https://localhost:8080/"
        },
        "id": "ae4NGN1IeLLc",
        "outputId": "b52f2d51-5630-4272-f26c-be0306aac4d7"
      },
      "execution_count": 6,
      "outputs": [
        {
          "output_type": "stream",
          "name": "stdout",
          "text": [
            "10.0\n"
          ]
        }
      ]
    },
    {
      "cell_type": "code",
      "source": [
        "print(complex(1))"
      ],
      "metadata": {
        "colab": {
          "base_uri": "https://localhost:8080/"
        },
        "id": "Z0mlAMaueQcw",
        "outputId": "05219984-56f4-4e00-f040-f3a02f6abaf3"
      },
      "execution_count": 7,
      "outputs": [
        {
          "output_type": "stream",
          "name": "stdout",
          "text": [
            "(1+0j)\n"
          ]
        }
      ]
    },
    {
      "cell_type": "markdown",
      "source": [
        " Calculando ticket media diario:\n",
        "\n",
        "![image.png](data:image/png;base64,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)\n",
        "\n"
      ],
      "metadata": {
        "id": "aZECMISLeVRH"
      }
    },
    {
      "cell_type": "markdown",
      "source": [
        "Ticket Médio do dia 19/01"
      ],
      "metadata": {
        "id": "rK0Rf5gZhZpJ"
      }
    },
    {
      "cell_type": "code",
      "source": [
        "svv_19 = 153.98\n",
        "sqv_19 = 3\n",
        "\n",
        "tkt_19 = svv_19 / sqv_19\n",
        "print(tkt_19)"
      ],
      "metadata": {
        "colab": {
          "base_uri": "https://localhost:8080/"
        },
        "id": "cG_HMWozhdC6",
        "outputId": "02a9b965-b0c1-436a-fda2-a6bb5ec66e83"
      },
      "execution_count": 8,
      "outputs": [
        {
          "output_type": "stream",
          "name": "stdout",
          "text": [
            "51.32666666666666\n"
          ]
        }
      ]
    },
    {
      "cell_type": "markdown",
      "source": [
        "Ticket Médio do dia 20/01"
      ],
      "metadata": {
        "id": "VEOsIBUCiDbw"
      }
    },
    {
      "cell_type": "code",
      "source": [
        "svv_20 = 337.01\n",
        "sqv_20 = 7\n",
        "\n",
        "tkt_20 = svv_20 / sqv_20\n",
        "print(tkt_20)"
      ],
      "metadata": {
        "colab": {
          "base_uri": "https://localhost:8080/"
        },
        "id": "UJ9Gl_39iHGU",
        "outputId": "4dc8fa60-70e0-4d36-ef0b-ba55226315b1"
      },
      "execution_count": 9,
      "outputs": [
        {
          "output_type": "stream",
          "name": "stdout",
          "text": [
            "48.144285714285715\n"
          ]
        }
      ]
    },
    {
      "cell_type": "markdown",
      "source": [
        "Ticket Médio do dia 23/01"
      ],
      "metadata": {
        "id": "R4tUnfXiiS9-"
      }
    },
    {
      "cell_type": "code",
      "source": [
        "svv_23 = 295.33\n",
        "sqv_23 = 5\n",
        "\n",
        "tkt_23 = svv_23 / sqv_23\n",
        "print(tkt_23)"
      ],
      "metadata": {
        "colab": {
          "base_uri": "https://localhost:8080/"
        },
        "id": "1ToMkewhiVr5",
        "outputId": "ab288858-fb76-4a44-cfb9-2a201d50b09a"
      },
      "execution_count": 10,
      "outputs": [
        {
          "output_type": "stream",
          "name": "stdout",
          "text": [
            "59.065999999999995\n"
          ]
        }
      ]
    },
    {
      "cell_type": "markdown",
      "source": [
        "Ticket médio:"
      ],
      "metadata": {
        "id": "0RU8xSQRiqvn"
      }
    },
    {
      "cell_type": "code",
      "source": [
        "tkt = (tkt_19 + tkt_20 + tkt_23) / 3\n",
        "print(tkt)"
      ],
      "metadata": {
        "colab": {
          "base_uri": "https://localhost:8080/"
        },
        "id": "uj9MiRAfit06",
        "outputId": "bf220b7f-b6a8-478c-bf3c-2fa2a6bb0726"
      },
      "execution_count": 11,
      "outputs": [
        {
          "output_type": "stream",
          "name": "stdout",
          "text": [
            "52.8456507936508\n"
          ]
        }
      ]
    },
    {
      "cell_type": "markdown",
      "source": [
        "#Strings"
      ],
      "metadata": {
        "id": "u-aPaQhQjdI0"
      }
    },
    {
      "cell_type": "markdown",
      "source": [],
      "metadata": {
        "id": "o_Rgg3IvjzbW"
      }
    }
  ]
}